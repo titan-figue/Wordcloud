{
  "nbformat": 4,
  "nbformat_minor": 0,
  "metadata": {
    "colab": {
      "name": "Tokenize-using-NLTK.ipynb",
      "provenance": [],
      "collapsed_sections": [],
      "authorship_tag": "ABX9TyOTZZBKg7blsn5/SQY+pb5j"
    },
    "kernelspec": {
      "name": "python3",
      "display_name": "Python 3"
    },
    "language_info": {
      "name": "python"
    }
  },
  "cells": [
    {
      "cell_type": "markdown",
      "source": [
        "## Tokenize using NLTK\n",
        "\n",
        "NLTK ( Natural Language Toolkit) a python library, http://www.nltk.org/.\n",
        "\n",
        "*Tokenization*  or text segmentation is the process of transforming a text into a list of words, and words are called *tokens*."
      ],
      "metadata": {
        "id": "oFKiKTgQ7U66"
      }
    },
    {
      "cell_type": "code",
      "source": [
        "# Most simple way to divide a text into a list is using \"split\" \n",
        "text = \"Let's to see the TV, please!\"\n",
        "print (text.split())"
      ],
      "metadata": {
        "colab": {
          "base_uri": "https://localhost:8080/"
        },
        "id": "3vOO3JPEoy2D",
        "outputId": "72b7467a-3221-4927-c4a5-444a753a9c2f"
      },
      "execution_count": 30,
      "outputs": [
        {
          "output_type": "stream",
          "name": "stdout",
          "text": [
            "[\"Let's\", 'to', 'see', 'the', 'TV,', 'please!']\n"
          ]
        }
      ]
    },
    {
      "cell_type": "markdown",
      "source": [
        "With this approach the contractions are not handled and punctuations signs stay attached to the nearest word.\n",
        "The right way to tokenize is to use a tokenizer. Most of NLP libraries offer ther own tokenizers.\n",
        "Here we are going to use nltk."
      ],
      "metadata": {
        "id": "3SfYrIY0p-2V"
      }
    },
    {
      "cell_type": "code",
      "source": [
        "# !pip install nltk"
      ],
      "metadata": {
        "id": "SzNiGByPrPT6"
      },
      "execution_count": 31,
      "outputs": []
    },
    {
      "cell_type": "markdown",
      "source": [
        "## Apply the WordPunctTokenizer\n",
        "\n",
        "we obtain a different results. The punctuation are now handled as tokens."
      ],
      "metadata": {
        "id": "JujWu7KZrl5s"
      }
    },
    {
      "cell_type": "code",
      "source": [
        "from nltk.tokenize import WordPunctTokenizer\n",
        "\n",
        "tokens = WordPunctTokenizer().tokenize(\"Let's to see the film on the TV, Please Mumy!.\")\n",
        "\n",
        "print (tokens)"
      ],
      "metadata": {
        "colab": {
          "base_uri": "https://localhost:8080/"
        },
        "id": "JQaoXisL-BwM",
        "outputId": "0c27959c-7a40-4cdc-931d-f1285c441a10"
      },
      "execution_count": 32,
      "outputs": [
        {
          "output_type": "stream",
          "name": "stdout",
          "text": [
            "['Let', \"'\", 's', 'to', 'see', 'the', 'film', 'on', 'the', 'TV', ',', 'Please', 'Mumy', '!.']\n"
          ]
        }
      ]
    },
    {
      "cell_type": "markdown",
      "source": [
        "## Tokenize a text from Wikipedia"
      ],
      "metadata": {
        "id": "i2AAxPU4sZqI"
      }
    },
    {
      "cell_type": "code",
      "execution_count": 33,
      "metadata": {
        "colab": {
          "base_uri": "https://localhost:8080/"
        },
        "id": "xBXZKGxI7UMp",
        "outputId": "dce19ffe-6b35-400a-c790-39bd74cdaf9b"
      },
      "outputs": [
        {
          "output_type": "stream",
          "name": "stdout",
          "text": [
            "Requirement already satisfied: wordcloud in /usr/local/lib/python3.7/dist-packages (1.5.0)\n",
            "Requirement already satisfied: pillow in /usr/local/lib/python3.7/dist-packages (from wordcloud) (7.1.2)\n",
            "Requirement already satisfied: numpy>=1.6.1 in /usr/local/lib/python3.7/dist-packages (from wordcloud) (1.21.5)\n"
          ]
        }
      ],
      "source": [
        "!pip install wordcloud"
      ]
    },
    {
      "cell_type": "code",
      "source": [
        "import requests\n",
        "\n",
        "def wikipedia_page(title):\n",
        "  '''\n",
        "  This function returns the raw text of a wikipedia page\n",
        "  given a wikipedia page title\n",
        "  '''\n",
        "  params = {\n",
        "      'action': 'query',\n",
        "      'format': 'json', # request json formatted content\n",
        "      'titles': title, #title of the wikipedia page\n",
        "      'prop': 'extracts',\n",
        "      'explaintext': True\n",
        "  }\n",
        "  headers = {\"User-Agent\": \"\"}\n",
        "  # send a request to the wikipedia api\n",
        "  response = requests.get(\n",
        "      'https://en.wikipedia.org/w/api.php',  \n",
        "      params= params, headers = headers\n",
        "  ).json()\n",
        "\n",
        "  #Parse the result\n",
        "  page = next(iter(response['query']['pages'].values()))\n",
        "  # return the page content\n",
        "  if 'extract' in page.keys():\n",
        "    return page['extract']\n",
        "  else:\n",
        "    return \"Page not found\"\n",
        "\n",
        "# we lowercase the text to avoid having to deal with uppercase and capitalized words\n",
        "text = wikipedia_page('Carbon capture and storage').lower()\n",
        "print(text)"
      ],
      "metadata": {
        "colab": {
          "base_uri": "https://localhost:8080/"
        },
        "id": "3DRCfLT5914F",
        "outputId": "2236e3b9-2b11-4862-df6c-47aa5eeb5946"
      },
      "execution_count": 34,
      "outputs": [
        {
          "output_type": "stream",
          "name": "stdout",
          "text": [
            "carbon capture and storage (ccs) or carbon capture and sequestration is the process of capturing carbon dioxide (co2) before it enters the atmosphere, transporting it, and storing it (carbon sequestration) for centuries or millennia. usually the co2 is captured from large point sources, such as coal-fired power plant, a chemical plant or biomass power plant, and then stored in an underground geological formation. the aim is to prevent the release of co2 from heavy industry with the intent of mitigating the effects of climate change. although co2 has been injected into geological formations for several decades for various purposes, including enhanced oil recovery, the long-term storage of co2 is a relatively new concept. carbon capture and utilization (ccu) and ccs are sometimes discussed collectively as carbon capture, utilization, and sequestration (ccus). this is because ccs is a relatively expensive process yielding a product with an intrinsic low value (i.e. co2). hence, carbon capture makes economically more sense when being combined with a utilization process where the cheap co2 can be used to produce high-value chemicals to offset the high costs of capture operations.co2 can be captured directly from an industrial source, such as a cement kiln, using a variety of technologies; including absorption, adsorption, chemical looping, membrane gas separation or gas hydration. as of 2020, about one thousandth of global co2 emissions are captured by ccs. most projects are industrial.storage of the co2 is envisaged either in deep geological formations, or in the form of mineral carbonates. pyrogenic carbon capture and storage (pyccs) is also being researched. geological formations are currently considered the most promising sequestration sites. the us national energy technology laboratory (netl) reported that north america has enough storage capacity for more than 900 years worth of co2 at current production rates. a general problem is that long-term predictions about submarine or underground storage security are very difficult and uncertain, and there is still the risk that some co2 might leak into the atmosphere. opponents point out that many ccs projects have failed to deliver on promised emissions reductions.   additionally, opponents argue that rather than focusing on carbon removal, carbon capture and storage is a justification for indefinite fossil fuel usage disguised as marginal emission reductions. one of the most well-known failures is the futuregen program, partnerships between the us federal government and coal energy production companies which were intended to demonstrate ″clean coal″, but never succeeded in producing any carbon-free electricity from coal.\n",
            "\n",
            "\n",
            "== capture ==\n",
            "\n",
            "capturing co2 is most cost-effective at point sources, such as large carbon-based energy facilities, industries with major co2 emissions (e.g. cement production, steelmaking), natural gas processing, synthetic fuel plants and fossil fuel-based hydrogen production plants. extracting co2 from air is possible, although the lower concentration of co2 in air compared to combustion sources complicates the engineering and makes the process therefore more expensive.impurities in co2 streams, like sulfurs and water, can have a significant effect on their phase behavior and could pose a significant threat of increased pipeline and well corrosion. in instances where co2 impurities exist, especially with air capture, a scrubbing separation process is needed to initially clean the flue gas. it is possible to capture approximately 65% of co2 embedded in it and sequester it in a solid form.broadly, three different technologies exist: post-combustion, pre-combustion, and oxyfuel combustion:\n",
            "\n",
            "in post combustion capture, the co2 is removed after combustion of the fossil fuel—this is the scheme that would apply to fossil-fuel power plants. co2 is captured from flue gases at power stations or other point sources. the technology is well understood and is currently used in other industrial applications, although at smaller scale than required in a commercial scale station. post combustion capture is most popular in research because fossil fuel power plants can be retrofitted to include ccs technology in this configuration.\n",
            "the technology for pre-combustion is widely applied in fertilizer, chemical, gaseous fuel (h2, ch4), and power production. in these cases, the fossil fuel is partially oxidized, for instance in a gasifier. the co from the resulting syngas (co and h2) reacts with added steam (h2o) and is shifted into co2 and h2. the resulting co2 can be captured from a relatively pure exhaust stream. the h2 can be used as fuel; the co2 is removed before combustion. several advantages and disadvantages apply versus post combustion capture. the co2 is removed after combustion, but before the flue gas expands to atmospheric pressure. the capture before expansion, i.e. from pressurized gas, is standard in almost all industrial co2 capture processes, at the same scale as required for power plants.\n",
            "in oxy-fuel combustion the fuel is burned in pure oxygen instead of air. to limit the resulting flame temperatures to levels common during conventional combustion, cooled flue gas is recirculated and injected into the combustion chamber. the flue gas consists of mainly co2 and water vapour, the latter of which is condensed through cooling. the result is an almost pure co2 stream. power plant processes based on oxyfuel combustion are sometimes referred to as \"zero emission\" cycles, because the co2 stored is not a fraction removed from the flue gas stream (as in the cases of pre- and post-combustion capture) but the flue gas stream itself. a certain fraction of the co2 inevitably end up in the condensed water. to warrant the label \"zero emission\" the water would thus have to be treated or disposed of appropriately.\n",
            "\n",
            "\n",
            "=== separation technologies ===\n",
            "the major technologies proposed for carbon capture are:\n",
            "membrane\n",
            "oxyfuel combustion\n",
            "absorption\n",
            "multiphase absorption\n",
            "adsorption\n",
            "chemical looping combustion\n",
            "calcium looping\n",
            "cryogenicabsorption, or carbon scrubbing with amines is the dominant capture technology. it is the only carbon capture technology so far that has been used industrially.co2 adsorbs to a mof (metal–organic framework) through physisorption or chemisorption based on the porosity and selectivity of the mof leaving behind a co2 poor gas stream. the co2 is then stripped off the mof using temperature swing adsorption (tsa) or pressure swing adsorption (psa) so the mof can be reused. adsorbents and absorbents require regeneration steps where the co2 is removed from the sorbent or solution that collected it from the flue gas in order for the sorbent or solution to be reused. monoethanolamine (mea) solutions, the leading amine for capturing co2 , have a heat capacity between 3–4 j/g k since they are mostly water. higher heat capacities add to the energy penalty in the solvent regeneration step. thus, to optimize a mof for carbon capture, low heat capacities and heats of adsorption are desired. additionally, high working capacity and high selectivity are desirable in order to capture as much co2 as possible. however, an energy trade off complicates selectivity and energy expenditure. as the amount of co2 captured increases, the energy, and therefore cost, required to regenerate increases. a drawback of mof/ccs is the limitation imposed by their chemical and thermal stability. research is attempting to optimize mof properties for ccs. metal reservoirs are another limiting factor.about two thirds of ccs cost is attributed to capture, making it the limit to ccs deployment. optimizing capture would significantly increase ccs feasibility since the transport and storage steps of ccs are rather mature.an alternate method is chemical looping combustion (clc). looping uses a metal oxide as a solid oxygen carrier. metal oxide particles react with a solid, liquid or gaseous fuel in a fluidized bed combustor, producing solid metal particles and a mixture of co2 and water vapor. the water vapor is condensed, leaving pure co2 , which can then be sequestered. the solid metal particles are circulated to another fluidized bed where they react with air, producing heat and regenerating metal oxide particles for return to the combustor. a variant of chemical looping is calcium looping, which uses the alternating carbonation and then calcination of a calcium oxide based carrier.ccs could reduce co2 emissions from smokestacks by 85–90% or more, but it has no net effect on co2 emissions due to the mining and transport of coal (something that is frequently overlooked when considering “green” alternatives such as batteries). it will actually \"increase such emissions and of air pollutants per unit of net delivered power and will increase all ecological, land-use, air-pollution, and water-pollution impacts from coal mining, transport, and processing, because ccs requires 25% more energy, thus 25% more coal combustion, than does a system without ccs\".a 2019 study found ccs plants to be less effective than renewable electricity. the electrical energy returned on energy invested (eroei) ratios of both production methods were estimated, accounting for their operational and infrastructural energy costs. renewable electricity production included solar and wind with sufficient energy storage, plus dispatchable electricity production. thus, rapid expansion of scalable renewable electricity and storage would be preferable over fossil-fuel with ccs. the study did not consider whether both options could be pursued in parallel.in 2021 high hopes proposed using high-altitude balloons to capture co2 cryogenically, using hydrogen to lower the already low-temperature atmosphere sufficiently to produce dry ice that is returned to earth for sequestration.in sorption enhanced water gas shift (sewgs) technology a pre-combustion carbon capture process, based on solid adsorption, is combined with the water gas shift reaction (wgs) in order to produce a high pressure hydrogen stream. the co2 stream produced can be stored or used for other industrial processes.\n",
            "\n",
            "\n",
            "== transport ==\n",
            "after capture, the co2 must be transported to suitable storage sites. pipelines are the cheapest form of transport. ships can be utilized where pipelines are infeasible, and for long enough distances ships may be cheaper than a pipeline. these methods are used for transporting co2 for other applications. rail and tanker truck cost about twice as much as pipelines or ships.for example, approximately 5,800 km of co2 pipelines operated in the us in 2008, and a 160 km pipeline in norway, used to transport co2 to oil production sites where it is injected into older fields to extract oil. this injection is called enhanced oil recovery. pilot programs are in development to test long-term storage in non-oil producing geologic formations. in the united kingdom, the parliamentary office of science and technology envisages pipelines as the main uk transport.in 2021, two companies, namely navigator co2 ventures and summit carbon solutions were planning pipelines through the midwestern us from north dakota to illinois to connect ethanol companies to sites where liquefied co2 is injected into porous rock.\n",
            "\n",
            "\n",
            "== sequestration ==\n",
            "\n",
            "various approaches have been conceived for permanent storage. these include gaseous storage in deep geological formations (including saline formations and exhausted gas fields), and solid storage by reaction of co2 with metal oxides to produce stable carbonates. it was once suggested that co2 could be stored in the oceans, but this would exacerbate ocean acidification and was banned under the london and ospar conventions.\n",
            "\n",
            "\n",
            "=== geological storage ===\n",
            "geo-sequestration, involves injecting co2 , generally in supercritical form, into underground geological formations. oil fields, gas fields, saline formations, unmineable coal seams, and saline-filled basalt formations have been suggested as alternatives. physical (e.g., highly impermeable caprock) and geochemical trapping mechanisms prevent the co2 from escaping to the surface.unmineable coal seams can be used because co2 molecules attach to the coal surface. technical feasibility depends on the coal bed's permeability. in the process of absorption the coal releases previously absorbed methane, and the methane can be recovered (enhanced coal bed methane recovery). methane revenues can offset a portion of the cost, although burning the resultant methane, however, produces another stream of co2 to be sequestered.\n",
            "saline formations contain mineralized brines and have yet to produce benefit to humans. saline aquifers have occasionally been used for storage of chemical waste in a few cases. the main advantage of saline aquifers is their large potential storage volume and their ubiquity. the major disadvantage of saline aquifers is that relatively little is known about them. to keep the cost of storage acceptable, geophysical exploration may be limited, resulting in larger uncertainty about the aquifer structure. unlike storage in oil fields or coal beds, no side product offsets the storage cost. trapping mechanisms such as structural trapping, residual trapping, solubility trapping and mineral trapping may immobilize the co2 underground and reduce leakage risks.\n",
            "\n",
            "\n",
            "==== enhanced oil recovery ====\n",
            "co2 is occasionally injected into an oil field as an enhanced oil recovery technique, but because co2 is released when the oil is burned, it is not carbon neutral.\n",
            "\n",
            "\n",
            "=== algae/bacteria ===\n",
            "co2 can be physically supplied to algae or bacteria that could degrade the co2. it would ultimately be ideal to exploit co2 metabolizing bacterium clostridium thermocellum.\n",
            "\n",
            "\n",
            "=== mineral storage ===\n",
            "co2 can exothermically react with metal oxides, which in turn produce stable carbonates (e.g. calcite, magnesite). this process (co2-to-stone) occurs naturally over periods of years and is responsible for much surface limestone. olivine is one such mox. the reaction rate can be accelerated with a catalyst or by increasing temperatures and/or pressures, or by mineral pre-treatment, although this method can require additional energy. the ipcc estimates that a power plant equipped with ccs using mineral storage would need 60–180% more energy than one without. theoretically, up to 22% of crustal mineral mass is able to form carbonates.\n",
            "\n",
            "ultramafic mine tailings are a readily available source of fine-grained metal oxides that can serve this purpose. accelerating passive co2 sequestration via mineral carbonation may be achieved through microbial processes that enhance mineral dissolution and carbonate precipitation.\n",
            "\n",
            "\n",
            "== cost ==\n",
            "cost is a significant factor affecting ccs. the cost of ccs, plus any subsidies, must be less than the expected cost of emitting co2 for a project to be considered economically favorable.\n",
            "capturing co2 requires energy, and if that energy comes from fossil fuels then more fuel must be burned to produce a given net amount. in other words, the cost of co2 captured does not fully account for the reduced efficiency of the plant with ccs. for this reason the cost of co2 captured is always lower than the cost of co2 avoided and does not describe the full cost of ccs. some sources report the increase in the cost of electricity as a way to evaluate the economic impact of ccs.ccs technology is expected to use between 10 and 40 percent of the energy produced by a power station. energy for ccs is called an energy penalty. it has been estimated that about 60% of the penalty originates from the capture process, 30% comes from compression of co2 , while the remaining 10% comes from pumps and fans. ccs would increase the fuel requirement of a plant with ccs by about 15% (gas plant). the cost of this extra fuel, as well as storage and other system costs, are estimated to increase the costs of energy from a power plant with ccs by 30–60%.\n",
            "constructing ccs units is capital intensive. the additional costs of a large-scale ccs demonstration project are estimated to be €0.5–1.1 billion per project over the project lifetime. other applications are possible. ccs trials for coal-fired plants in the early 21st century were  economically unviable in most countries, including china, in part because revenue from enhanced oil recovery collapsed with the 2020 oil price collapse.as of 2018 a carbon price of at least 100 euros per tonne co2 was estimated to make industrial ccs viable together with carbon tariffs. by 2021 the eu allowance had only reached 60 euros and the carbon border adjustment mechanism had not yet been implemented. however a company making small modules claims it can get well below that price by mass production by 2022.according to uk government estimates made in the late 2010s, carbon capture (without storage) is estimated to add 7 gbp per mwh by 2025 to the cost of electricity from a gas-fired power plant: however most co2 will need to be stored so in total the increase in cost for gas or biomass generated electricity is around 50%.\n",
            "\n",
            "\n",
            "=== business models ===\n",
            "possible business models for industrial carbon capture include:\n",
            "contract for difference cfdc co2 certificate strike price\n",
            "cost plus open book\n",
            "regulated asset base (rab)\n",
            "tradeable tax credits for ccs\n",
            "tradeable ccs certificates + obligation\n",
            "creation of low carbon marketgovernments have provided various types of funding for ccs demonstration projects, including tax credits, allocations and grants.\n",
            "\n",
            "\n",
            "==== clean development mechanism ====\n",
            "one alternative could be through the clean development mechanism of the kyoto protocol. at cop16 in 2010, the subsidiary body for scientific and technological advice, at its thirty-third session, issued a draft document recommending the inclusion of ccs in geological formations in clean development mechanism project activities. at cop17 in durban, a final agreement was reached enabling ccs projects to receive support through the clean development mechanism.\n",
            "\n",
            "\n",
            "== environmental effects ==\n",
            "\n",
            "\n",
            "=== alkaline solvents ===\n",
            "co2 can be captured with alkaline solvents at low temperatures in the absorber and released co2 at higher temperatures in a desorber. chilled ammonia ccs plants emit ammonia. \"functionalized ammonia\" emits less ammonia, but amines may form secondary amines that emit volatile nitrosamines by a side reaction with nitrogen dioxide, which is present in any flue gas. alternative amines with little to no vapor pressure can avoid these emissions. nevertheless, practically 100% of remaining sulfur dioxide from the plant is washed out of the flue gas, along with dust/ash.\n",
            "\n",
            "\n",
            "=== gas-fired power plants ===\n",
            "the extra energy requirements deriving from ccs for natural gas combined cycle (ngcc) plants range from 11 to 22%. fuel use and environmental problems (e.g., methane emissions) arising from gas extraction increase accordingly. plants equipped with selective catalytic reduction systems for nitrogen oxides produced during combustion require proportionally greater amounts of ammonia.\n",
            "\n",
            "\n",
            "=== coal-fired power plants ===\n",
            "a 2020 study concluded that half as much ccs might be installed in coal-fired plants as in gas-fired: these would be mainly in china and india.for super-critical pulverized coal (pc) plants, ccs' energy requirements range from 24 to 40%, while for coal-based gasification combined cycle (igcc) systems it is 14–25%. fuel use and environmental problems arising from coal extraction increase accordingly. plants equipped with flue-gas desulfurization (fgd) systems for sulfur dioxide control require proportionally greater amounts of limestone, and systems equipped with selective catalytic reduction systems for nitrogen oxides produced during combustion require proportionally greater amounts of ammonia.\n",
            "\n",
            "\n",
            "== leakage ==\n",
            "\n",
            "\n",
            "=== long term retention ===\n",
            "ipcc estimates that leakage risks at properly managed sites are comparable to those associated with current hydrocarbon activity. it recommends that limits be set to the amount of leakage that can take place. however, this finding is contested given the lack of experience. co2 could be trapped for millions of years, and although some leakage may occur, appropriate storage sites are likely to retain over 99% for over 1000 years.mineral storage is not regarded as presenting any leakage risks.norway's sleipner gas field is the oldest industrial scale retention project. an environmental assessment conducted after ten years of operation concluded that geosequestration was the most definite form of permanent geological storage method:\n",
            "\n",
            "available geological information shows absence of major tectonic events after the deposition of the utsira formation [saline reservoir]. this implies that the geological environment is tectonically stable and a site suitable for co2 storage. the solubility trapping [is] the most permanent and secure form of geological storage.\n",
            "in march 2009 statoilhydro issued a study documenting the slow spread of co2 in the formation after more than 10 years operation.gas leakage into the atmosphere may be detected via atmospheric gas monitoring, and can be quantified directly via eddy covariance flux measurements.\n",
            "\n",
            "\n",
            "=== sudden leakage hazards ===\n",
            "transmission pipelines may leak or rupture. pipelines can be fitted with remotely controlled valves that can limit the release quantity to one pipe section. for example, a severed 19\" pipeline section 8 km long could release its 1,300 tonnes in about 3–4 min. at the storage site, the injection pipe can be fitted with non-return valves to prevent an uncontrolled release from the reservoir in case of upstream pipeline damage.\n",
            "large-scale releases present asphyxiation risk. in the 1953 menzengraben mining accident, several thousand tonnes were released and asphyxiated a person 300 meters away. malfunction of a co2 industrial fire suppression system in a large warehouse released 50 t co2 after which 14 people collapsed on the nearby public road. in the berkel en rodenrijs incident in december 2008 a modest release from a pipeline under a bridge killed some ducks sheltering there.\n",
            "\n",
            "\n",
            "== monitoring ==\n",
            "monitoring allows leak detection with enough warning to minimize the amount lost, and to quantify the leak size. monitoring can be done at both the surface and subsurface levels.\n",
            "\n",
            "\n",
            "=== subsurface ===\n",
            "subsurface monitoring can directly and/or indirectly track the reservoir's status. one direct method involves drilling deep enough to collect a sample. this drilling can be expensive due to the rock's physical properties. it also provides data only at a specific location.\n",
            "one indirect method sends sound or electromagnetic waves into the reservoir which reflects back for interpretation. this approach provides data over a much larger region; although with less precision.\n",
            "both direct and indirect monitoring can be done intermittently or continuously.\n",
            "\n",
            "\n",
            "==== seismic ====\n",
            "seismic monitoring is a type of indirect monitoring. it is done by creating seismic waves either at the surface using a seismic vibrator, or inside a well using a spinning eccentric mass. these waves propagate through geological layers and reflect back, creating patterns that are recorded by seismic sensors placed on the surface or in boreholes. it can identify migration pathways of the co2 plume.examples of seismic monitoring of geological sequestration are the sleipner sequestration project, the frio co2 injection test and the co2crc otway project. seismic monitoring can confirm the presence of co2 in a given region and map its lateral distribution, but is not sensitive to the concentration.\n",
            "\n",
            "\n",
            "=== tracer ===\n",
            "organic chemical tracers, using no radioactive nor cadmium components, can be used during the injection phase in a ccs project where co2 is injected into an existing oil or gas field, either for eor, pressure support or storage. tracers and methodologies are compatible with co2 – and at the same time unique and distinguishable from the co2 itself or other molecules present in the sub-surface. using laboratory methodology with an extreme detectability for tracer, regular samples at the producing wells will detect if injected co2 has migrated from the injection point to the producing well. therefore, a small tracer amount is sufficient to monitor large scale subsurface flow patterns. for this reason, tracer methodology is well-suited to monitor the state and possible movements of co2 in ccs projects. tracers can therefore be an aid in ccs projects by acting as an assurance that co2 is contained in the desired location sub-surface. in the past, this technology has been used to monitor and study movements in ccs projects in algeria (mathieson et al. “in salah co 2 storage jip: co 2 sequestration monitoring and verification technologies applied at krechba, algeria”, energy procedia 4:3596-3603), in the netherlands (vandeweijer et al. “monitoring the co2 injection site: k12b”, energy procedia 4 (2011) 5471–5478) as well as in norway (snøhvit).\n",
            "\n",
            "\n",
            "=== surface ===\n",
            "eddy covariance is a surface monitoring technique that measures the flux of co2 from the ground's surface. it involves measuring co2 concentrations as well as vertical wind velocities using an anemometer. this provides a measure of the vertical co2 flux. eddy covariance towers could potentially detect leaks, after accounting for the natural carbon cycle, such as photosynthesis and plant respiration. an example of eddy covariance techniques is the shallow release test. another similar approach is to use accumulation chambers for spot monitoring. these chambers are sealed to the ground with an inlet and outlet flow stream connected to a gas analyzer. they also measure vertical flux. monitoring a large site would require a network of  chambers.\n",
            "\n",
            "\n",
            "==== insar ====\n",
            "insar monitoring involves a satellite sending signals down to the earth's surface where it is reflected back to the satellite's receiver. the satellite is thereby able to measure the distance to that point. co2 injection into deep sublayers of geological sites creates high pressures. these layers affect layers above and below them, change the surface landscape. in areas of stored co2 , the ground's surface often rises due to the high pressures. these changes correspond to a measurable change in the distance from the satellite.\n",
            "\n",
            "\n",
            "== carbon capture and utilization (ccu) ==\n",
            "\n",
            "\n",
            "== social acceptance ==\n",
            "multiple studies indicate that risk and benefit perception are the most essential components of social acceptance.risk perception is mostly related to the concerns on its safety issues in terms of hazards from its operations and the possibility of co2 leakage which may endanger communities, commodities, and the environment in the vicinity of the infrastructure. other perceived risks relate to tourism and property values.people who are already affected by climate change, such as drought, tend to be more supportive of ccs. locally, communities are sensitive to economic factors, including job creation, tourism or related investment.experience is another relevant feature. several field studies concluded that people already involved or used to industry are likely to accept the technology. in the same way, communities who have been negatively affected by any industrial activity are also less supportive of ccs.few members of the public know about ccs. this can allow misconceptions that lead to less approval. no strong evidence links knowledge of ccs and public acceptance. however, one study  found that communicating information about monitoring tends to have a negative impact on attitudes. conversely, approval seems to be reinforced when ccs is compared to natural phenomena.due to the lack of knowledge, people rely on organizations that they trust. in general, non-governmental organizations and researchers experience higher trust than stakeholders and governments. opinions amongst ngos are mixed. moreover, the link between trust and acceptance is at best indirect. instead, trust has an influence on the perception of risks and benefits.ccs is embraced by the shallow ecology worldview, which promotes the search for solutions to the effects of climate change in lieu of/in addition to addressing the causes. this involves the use of advancing technology and ccs acceptance is common among techno-optimists. ccs is an \"end-of-pipe\" solution that reduces atmospheric co2, instead of minimizing the use of fossil fuel.on 21 january 2021, elon musk announced he was donating $100m for a prize for best carbon capture technology.\n",
            "\n",
            "\n",
            "=== environmental justice ===\n",
            "carbon capture facilities are often designed to be located near existing oil and gas infrastructure. in areas such as the gulf coast, new facilities would exacerbate already existing industrial pollution, putting communities of color at greater risk.a 2021 desmog blog story highlighted, \"ccs hubs are likely be sites in communities already being impacted by the climate crisis like lake charles and those along the mississippi river corridor, where most of the state carbon pollution is emitted from fossil fuel power plants. exxon, for example, is backing a carbon storage project in houston’s shipping channel, another environmental justice community.\"\n",
            "\n",
            "\n",
            "== political debate ==\n",
            "ccs has been discussed by political actors at least since the start of the unfccc negotiations in the beginning of the 1990s, and remains a very divisive issue. ccs was included in the kyoto protocol, and this inclusion was a precondition for the signing of the treaty by the united states, norway, russia and canada.some environmental groups raised concerns over leakage given the long storage time required, comparing ccs to storing radioactive waste from nuclear power stations.other controversies arose from the use of ccs by policy makers as a tool to fight climate change. in the ipcc’s fourth assessment report in 2007, a possible pathway to keep the increase of global temperature below 2 °c included the use of negative emission technologies (nets).\n",
            "\n",
            "\n",
            "=== carbon emission status-quo ===\n",
            "opponents claimed that ccs could legitimize the continued use of fossil fuels, as well obviate commitments on emission reduction.some examples such as in norway shows that ccs and other carbon removal technologies gained traction because it allowed the country to pursue its interests regarding the petroleum industry. norway was a pioneer in emission mitigation, and established a co2 tax in 1991. however, strong growth in norway’s petroleum sector made domestic emission cuts increasingly difficult throughout the 1990s. the country’s successive governments struggled to pursue ambitious emission mitigation policies. the compromise was set to reach ambitious emission cuts targets without disrupting the economy, which was achieved by extensively relying on kyoto protocol’s flexible mechanisms regarding carbon sinks, whose scope could extend beyond national borders.\n",
            "\n",
            "\n",
            "=== environmental ngos ===\n",
            "environmental ngos are not in widespread agreement about ccs as a potential climate mitigation tool.\n",
            "the main disagreement amid ngos is whether ccs will reduce co2 emissions or just perpetuate the use of fossil fuels.for instance, greenpeace is strongly against ccs. according to the organization, the use of the technology will keep the world dependent on fossil fuels. in 2008, greenpeace published ‘false hope: why carbon capture and storage won’t save the climate’ to explain their posture. their only solution is the reduction of fossil fuel usage. greenpeace claimed that ccs could lead to a doubling of coal plant costs.on the other hand, beccs is used in some ipcc scenarios to help meet mitigation targets. adopting the ipcc argument that co2 emissions need to be reduced by 2050 to avoid dramatic consequences, the bellona foundation justified ccs as a mitigation action. they claimed fossil fuels are unavoidable for the near term and consequently, ccs is the quickest way to reduce co2 emissions.\n",
            "\n",
            "\n",
            "== example projects ==\n",
            "according to the global ccs institute, in 2020 there was about 40 million tons co2 per year capacity of ccs in operation and 50 million tons per year in development. in contrast, the world emits about 38 billion tonnes of co2 every year, so ccs captured about one thousandth of the 2020 co2 emissions.\n",
            "\n",
            "\n",
            "=== algeria ===\n",
            "\n",
            "\n",
            "==== in salah injection ====\n",
            "in salah was an operational onshore gas field with co2 injection. co2 was separated from produced gas and reinjected into the krechba geologic formation at a depth of 1,900m. since 2004, about 3.8 mt of co2 has been captured during natural gas extraction and stored. injection was suspended in june 2011 due to concerns about the integrity of the seal, fractures and leakage into the caprock, and movement of co2 outside of the krechba hydrocarbon lease.  \n",
            "\n",
            "\n",
            "=== australia ===\n",
            "\n",
            "in the early 2020s the government allocated over a$300 million for ccs both onshore and offshore.\n",
            "\n",
            "\n",
            "=== canada ===\n",
            "canadian governments committed $1.8 billion fund ccs projects over the 2008-2018 period. the main programs are the federal government's clean energy fund, alberta's carbon capture and storage fund, and the governments of saskatchewan, british columbia, and nova scotia. canada works closely with the united states through the u.s.–canada clean energy dialogue launched by the obama administration in 2009.\n",
            "\n",
            "\n",
            "==== alberta ====\n",
            "alberta committed $170 million in 2013/2014 – and a total of $1.3 billion over 15 years – to fund two large-scale ccs projects.\n",
            "the can $1.2 billion alberta carbon trunk line project (actl), pioneered by enhance energy, became fully operational in june 2020. it is now the world's largest carbon capture and storage system consisting of a 240 km pipeline that collects co2 industrial emissions from the agrium fertilizer plant and north west sturgeon refinery in alberta. the capture is then delivered to the matured clive oil reservoir for use in eor (enhanced oil recovery) and permanent storage. at full capacity, it can capture 14.6 million tonnes of co2 per year. for perspective, that translates into capturing co2 from 2.6 million cars plus.the quest carbon capture and storage project was developed by shell for use in the athabasca oil sands project. it is cited as being the world's first commercial-scale ccs project. construction began in 2012 and ended in 2015. the capture unit is located at the scotford upgrader in alberta, canada, where hydrogen is produced to upgrade bitumen from oil sands into synthetic crude oil. the steam methane units that produce the hydrogen emit co2 as a byproduct. the capture unit captures the co2 from the steam methane unit using amine absorption technology, and the captured co2 is then transported to fort saskatchewan where it is injected into a porous rock formation called the basal cambrian sands. from 2015 to 2018, the project stored 3 mt co2 at a rate of 1 mtpa.\n",
            "\n",
            "\n",
            "==== saskatchewan ====\n",
            "\n",
            "\n",
            "===== boundary dam power station unit 3 project =====\n",
            "boundary dam power station, owned by saskpower, is a coal fired station originally commissioned in 1959. in 2010, saskpower committed to retrofitting the lignite-powered unit 3 with a carbon capture unit. the project was completed in 2014. the retrofit utilized a post-combustion amine absorption technology. the captured co2 was to be sold to cenovus to be used for enhanced oil recovery (eor) in weyburn field. any co2 not used for eor was planned to be used by the aquistore project and stored in deep saline aquifers. many complications kept unit 3 and this project from operating as much as expected, but between august 2017 – august 2018, unit 3 was online for 65%/day on average. the project has a nameplate capacity of capture of 1 mtpa. the other units are to be phased out by 2024. the future of the one retrofitted unit is unclear.\n",
            "\n",
            "\n",
            "===== great plains synfuel plant and weyburn-midale project =====\n",
            "the great plains synfuel plant, owned by dakota gas, is a coal gasification operation that produces synthetic natural gas and various petrochemicals from coal. the plant began operation in 1984, while ccs began in 2000. in 2000, dakota gas retrofitted the plant and planned to sell the co2 to cenovus and apache energy, for eor in the weyburn and midale fields in canada. the midale fields were injected with 0.4 mtpa and the weyburn fields are injected with 2.4 mtpa for a total injection capacity of 2.8 mtpa. the weyburn-midale carbon dioxide project (or iea ghg weyburn-midale co2 monitoring and storage project), was conducted there. injection continued even after the study concluded. between 2000 and 2018, over 30 mt co2 was injected.\n",
            "\n",
            "\n",
            "=== china ===\n",
            "as of 2019 coal accounted for around 60% of china's energy production. the majority of co2 emissions come from coal-fired power plants or coal-to-chemical processes (e.g. the production of synthetic ammonia, methanol, fertilizer, natural gas, and ctls). according to the iea, around 385 out of china's 900 gigawatts of coal-fired power capacity are near locations suitable for ccs. as of 2017 three ccs facilities are operational or in late stages of construction, drawing co2 from natural gas processing or petrochemical production. at least eight more facilities are in early planning and development, most of which target power plant emissions, with an injection target of eor.china's largest carbon capture and storage plant at guohua jinjie coal power station was completed in january 2021. the project is expected to prevent 150,000 tons of carbon dioxide emission annually at a 90% capture rate.\n",
            "\n",
            "\n",
            "==== cnpc jilin oil field ====\n",
            "china's first carbon capture project was the jilin oil field in songyuan, jilin province. it started as a pilot eor project in 2009, and developed into a commercial operation for the china national petroleum corporation (cnpc). the final development phase completed in 2018. the source of co2 is the nearby changling gas field, from which natural gas with about 22.5% is extracted. after separation at the natural gas processing plant, the co2 is transported to jilin via pipeline and injected for a 37% enhancement in oil recovery at the low-permeability oil field. at commercial capacity, the facility currently injects 0.6 mt co2 per year, and it has injected a cumulative total of over 1.1 million tonnes over its lifetime.\n",
            "\n",
            "\n",
            "===== sinopec qilu petrochemical ccs project =====\n",
            "sinopec is developing a carbon capture unit whose first phase was to be operational in 2019. the facility is located in zibo city, shandong province, where a fertilizer plant produces co2 from coal/coke gasification. co2 is to be captured by cryogenic distillation and will be transported via pipeline to the nearby shengli oil field for eor. construction of the first phase began by 2018, and was expected to capture and inject 0.4 mt co2 per year. the shengli oil field is the destination for co2.\n",
            "\n",
            "\n",
            "==== yanchang integrated ccs project ====\n",
            "yanchang petroleum is developing carbon capture facilities at two coal-to-chemical plants in yulin city, shaanxi province. the first capture plant is capable of capturing 50,000 tonnes per year and was finished in 2012. construction on the second plant started in 2014 and was expected to be finished in 2020, with a capacity of 360,000 tonnes per year. this co2 will be transported to the ordos basin, one of china's largest coal, oil, and gas-producing regions with a series of low- and ultra-low permeability oil reservoirs. lack of water has limited the use of water for eor, so the co2 increase production.\n",
            "\n",
            "\n",
            "=== germany ===\n",
            "the german industrial area of schwarze pumpe, about 4 kilometres (2.5 mi) south of the city of spremberg, was home to the world's first demonstration ccs coal plant, the schwarze pumpe power station. the mini pilot plant was run by an alstom-built oxy-fuel boiler and is also equipped with a flue gas cleaning facility to remove fly ash and sulfur dioxide. the swedish company vattenfall ab invested some €70 million in the two-year project, which began operation 9 september 2008. the power plant, which is rated at 30 megawatts, was a pilot project to serve as a prototype for future full-scale power plants. 240 tonnes a day of co2 were being trucked 350 kilometers (220 mi) to be injected into an empty gas field. germany's bund group called it a \"fig leaf\". for each tonne of coal burned, 3.6 tonnes of co2 is produced. the ccs program at schwarze pumpe ended in 2014 due to nonviable costs and energy use.german utility rwe operates a pilot-scale co2 scrubber at the lignite-fired niederaußem power station built in cooperation with basf (supplier of detergent) and linde engineering.\n",
            "\n",
            "\n",
            "=== netherlands ===\n",
            "developed in the netherlands, an electrocatalysis by a copper complex helps reduce co2 to oxalic acid.\n",
            "\n",
            "\n",
            "=== norway ===\n",
            "in norway, the co2 technology centre (tcm) at mongstad began construction in 2009, and completed in 2012. it includes two capture technology plants (one advanced amine and one chilled ammonia), both capturing flue gas from two sources. this includes a gas-fired power plant and refinery cracker flue gas (similar to coal-fired power plant flue gas).\n",
            "in addition to this, the mongstad site was also planned to have a full-scale ccs demonstration plant. the project was delayed to 2014, 2018, and then indefinitely. the project cost rose to us$985 million.\n",
            "then in october 2011, aker solutions' wrote off its investment in aker clean carbon, declaring the carbon sequestration market to be \"dead\".on 1 october 2013, norway asked gassnova, its norwegian state enterprise for carbon capture and storage, not to sign any contracts for carbon capture and storage outside mongstad.in 2015 norway was reviewing feasibility studies and hoping to have a full-scale carbon capture demonstration project by 2020.in 2020, it then announced \"longship\" (\"langskip\" in norwegian). this 2,7 billion ccs project will capture and store the carbon emissions of norcem's cement factory in brevik. also, it plans to fund fortum oslo's varme waste incineration facility. finally, it will fund the transport and storage project \"northern lights\", a joint project between equinor, shell and total. this latter project will transport liquid co2 from capture facilities to a terminal at øygarden in vestland county. from there, co2 will be pumped through pipelines to a reservoir beneath the seabed.\n",
            "\n",
            "\n",
            "==== sleipner co2 injection ====\n",
            "sleipner is a fully operational offshore gas field with co2 injection initiated in 1996. co2 is separated from produced gas and reinjected in the utsira saline aquifer (800–1000 m below ocean floor) above the hydrocarbon reservoir zones. this aquifer extends much further north from the sleipner facility at its southern extreme. the large size of the reservoir accounts for why 600 billion tonnes of co2 are expected to be stored, long after the sleipner natural gas project has ended. the sleipner facility is the first project to inject its captured co2 into a geological feature for the purpose of storage rather than economically compromising eor.\n",
            "\n",
            "\n",
            "=== united arab emirates ===\n",
            "\n",
            "\n",
            "==== abu dhabi ====\n",
            "after the success of their pilot plant operation in november 2011, the abu dhabi national oil company and abu dhabi future energy company moved to create the first commercial ccs facility in the iron and steel industry. co2 is a byproduct of the iron making process. it is transported via a 50 km pipeline to abu dhabi national oil company oil reserves for eor. the facility's capacity is 800,000 tonnes per year. as  of 2013, more than 40% of gas emitted by the crude oil production process is recovered within the oil fields for eor.\n",
            "\n",
            "\n",
            "=== united kingdom ===\n",
            "the 2020 budget allocated 800 million pounds to attempt to create ccs clusters by 2030, to capture co2 from heavy industry and a gas-fired power station and store it under the north sea. the crown estate is responsible for storage rights on the uk continental shelf and it has facilitated work on offshore co2 storage technical and commercial issues.a trial of bio-energy with carbon capture and storage (beccs) at a wood-fired unit in drax power station in the uk started in 2019. if successful this could remove one tonne per day of co2 from the atmosphere.in the uk ccs is under consideration to help with industry and heating decarbonization.\n",
            "\n",
            "\n",
            "=== united states ===\n",
            "in addition to individual carbon capture and sequestration projects, various programs work to research, develop, and deploy ccs technologies on a broad scale. these include the national energy technology laboratory's (netl) carbon sequestration program, regional carbon sequestration partnerships and the carbon sequestration leadership forum (cslf).in september 2020, the u.s. department of energy awarded $72 million in federal funding to support the development and advancement of carbon capture technologies. under this cost-shared program, doe awarded $51 million to nine new projects for coal and natural gas power and industrial sources.\n",
            "the nine projects were to design initial engineering studies to develop technologies for byproducts at industrial sites. the projects selected are:\n",
            "\n",
            "enabling production of low carbon emissions steel through co2 capture from blast furnace gases — arcelormittal usa\n",
            "lh co2ment colorado project — electricore\n",
            "engineering design of a polaris membrane co2 capture system at a cement plant — membrane technology and research (mtr) inc.\n",
            "engineering design of a linde-basf advanced post-combustion co2 capture technology at a linde steam methane reforming h2 plant — praxair\n",
            "initial engineering and design for co2 capture from ethanol facilities — university of north dakota energy & environmental research center\n",
            "chevron natural gas carbon capture technology testing project — chevron usa, inc.\n",
            "engineering-scale demonstration of transformational solvent on ngcc flue gas — ion clean energy inc.\n",
            "engineering-scale test of a water-lean solvent for post-combustion capture — electric power research institute inc.\n",
            "engineering scale design and testing of transformational membrane technology for co2 capture — gas technology institute (gti)$21 million was also awarded to 18 projects for technologies that remove co2 from the atmosphere. the focus was on the development of new materials for use in direct air capture and will also complete field testing. the projects:\n",
            "\n",
            "direct air capture using novel structured adsorbents — electricore\n",
            "advanced integrated reticular sorbent-coated system to capture co2 from the atmosphere — ge research\n",
            "mil-101(cr)-amine sorbents evaluation under realistic direct air capture conditions — georgia tech research corporation\n",
            "demonstration of a continuous-motion direct air capture system — global thermostat operations, llc\n",
            "experimental demonstration of alkalinity concentration swing for direct air capture of co2 — harvard university\n",
            "high-performance, hybrid polymer membrane for co2 separation from ambient air — innosense, llc\n",
            "transformational sorbent materials for a substantial reduction in the energy requirement for direct air capture of co2 — innosepra, llc\n",
            "a combined water and co2 direct air capture system — iwvc, llc\n",
            "traps: tunable, rapid-uptake, aminopolymer aerogel sorbent for direct air capture of co2 — palo alto research center\n",
            "direct air capture using trapped small amines in hierarchical nanoporous capsules on porous electrospun hollow fibers — rensselaer polytechnic institute\n",
            "development of advanced solid sorbents for direct air capture — rti international\n",
            "direct air capture recovery of energy for ccus partnership (dac reco2up) — southern states energy board\n",
            "membrane adsorbents comprising self-assembled inorganic nanocages (sincs) for super-fast direct air capture enabled by passive cooling — suny\n",
            "low regeneration temperature sorbents for direct air capture of co2 — susteon inc.\n",
            "next generation fiber-encapsulated nanoscale hybrid materials for direct air capture with selective water rejection — the trustees of columbia university in the city of new york\n",
            "gradient amine sorbents for low vacuum swing co2 capture at ambient temperature — the university of akron\n",
            "electrochemically-driven co2 separation — university of delaware\n",
            "development of novel materials for direct air capture of co2 — university of kentucky research foundation\n",
            "\n",
            "\n",
            "==== kemper project ====\n",
            "the kemper project is a gas-fired power plant under construction in kemper county, mississippi. it was originally planned as a coal-fired plant. mississippi power, a subsidiary of southern company, began construction in 2010. had it become operational as a coal plant, the kemper project would have been a first-of-its-kind electricity plant to employ gasification and carbon capture technologies at this scale. the emission target was to reduce co2 to the same level an equivalent natural gas plant would produce. however, in june 2017 the proponents – southern company and mississippi power – announced that the plant would only burn natural gas.construction was delayed and the scheduled opening was pushed back over two years, while the cost increased to $6.6 billion—three times the original estimate. according to a sierra club analysis, kemper is the most expensive power plant ever built for the watts of electricity it will generate.in october 2021, the coal gasification portion of the plant was demolished.\n",
            "\n",
            "\n",
            "==== terrell natural gas processing plant ====\n",
            "opening in 1972, the terrell plant in texas, united states was the oldest operating industrial ccs project as of 2017. co2 is captured during gas processing and transported primarily via the val verde pipeline where it is eventually injected at sharon ridge oil field and other secondary sinks for use in eor. the facility captures an average of somewhere between 0.4 and 0.5 million tons of co2 per annum.\n",
            "\n",
            "\n",
            "==== enid fertilizer ====\n",
            "beginning in 1982, the facility owned by the koch nitrogen company is the second oldest large scale ccs facility still in operation. the co2 that is captured is a high purity byproduct of nitrogen fertilizer production. the process is made economical by transporting the co2 to oil fields for eor.\n",
            "\n",
            "\n",
            "==== shute creek gas processing facility ====\n",
            "7 million metric tonnes of co2 are recovered annually from exxonmobil's shute creek gas processing plant near la barge, wyoming, and transported by pipeline to various oil fields for eor. started in 1986, as of 2017 this project had the second largest co2 capture capacity in the world.\n",
            "\n",
            "\n",
            "==== petra nova ====\n",
            "the petra nova project is a billion dollar endeavor undertaken by nrg energy and jx nippon to partially retrofit their jointly owned w.a parish coal-fired power plant with post-combustion carbon capture. the plant, which is located in thompsons, texas (just outside of houston), entered commercial service in 1977. carbon capture began on 10 january 2017. the wa parish unit 8 generates 240 mw and 90% of the co2 (or 1.4 million tonnes) was captured per year. the co2 (99% purity) is compressed and piped about 82 miles to west ranch oil field, texas, for eor. the field has a capacity of 60 million barrels of oil and has increased its production from 300 barrels per day to 4000 barrels daily.  on may 1, 2020, nrg shut down petra nova, citing low oil prices during the covid-19 pandemic. the plant had also reportedly suffered frequent outages and missed its carbon sequestration goal by 17% over its first three years of operation. in  2021 the plant was mothballed.\n",
            "\n",
            "\n",
            "==== illinois industrial ====\n",
            "the illinois industrial carbon capture and storage project is dedicated to geological co2 storage. the project received a 171 million dollar investment from the doe and over 66 million dollars from the private sector. the co2 is a byproduct of the fermentation process of corn ethanol production and is stored 7000 feet underground in the mt. simon sandstone saline aquifer. sequestration began in april 2017 with a carbon capture capacity of 1 mt/a.\n",
            "\n",
            "\n",
            "==== net power demonstration facility ====\n",
            "the net power demonstration facility is an oxy-combustion natural gas power plant that operates by the allam power cycle. due to its unique design, the plant is able to reduce its air emissions to zero by producing a near pure stream of co2. the plant first fired in may 2018.\n",
            "\n",
            "\n",
            "==== century plant ====\n",
            "occidental petroleum, along with sandridge energy, operates a west texas hydrocarbon gas processing plant and related pipeline infrastructure that provides co2 for enhanced oil recovery (eor). with a co2 capture capacity of 8.4 mt/a, the century plant is the largest single industrial source co2 capture facility in the world.\n",
            "\n",
            "\n",
            "=== developing projects ===\n",
            "\n",
            "\n",
            "==== anica - advanced indirectly heated carbonate looping process ====\n",
            "the anica project is focused on developing economically feasible carbon capture technology for lime and cement plants, which are responsible for 5% of the total anthropogenic carbon dioxide emissions. in 2019, a consortium of 12 partners from germany, united kingdom and greece began working on integrating indirectly heated carbonate lopping (ihcal) process in cement and lime production. the project aims at lowering the energy penalty and co2 avoidance costs for co2 capture from lime and cement plants.\n",
            "\n",
            "\n",
            "==== port of rotterdam ccus backbone initiative ====\n",
            "expected in 2021, the port of rotterdam ccus backbone initiative aimed to implement a \"backbone\" of shared ccs infrastructure for use by businesses located around the port of rotterdam in rotterdam, netherlands. the project is overseen by the port of rotterdam, natural gas company gasunie, and the ebn. it intends to capture and sequester 2 million tons of co2 per year and increase this number in future years. although dependent on the participation of companies, the goal of this project is to greatly reduce the carbon footprint of the industrial sector of the port of rotterdam and establish a successful ccs infrastructure in the netherlands following the recently canceled road project. co2 captured from local chemical plants and refineries will both be sequestered in the north sea seabed. the possibility of a ccu initiative has also been considered, in which the captured co2 will be sold to horticultural firms, who will use it to speed up plant growth, as well as other industrial users.\n",
            "\n",
            "\n",
            "=== climeworks direct air capture plant and carbfix2 project ===\n",
            "climeworks opened the first commercial direct air capture plant in zürich, switzerland. their process involves capturing co2 directly from ambient air using a patented filter, isolating the captured co2 at high heat, and finally transporting it to a nearby greenhouse as a fertilizer. the plant is built near a waste recovery facility that uses its excess heat to power the climeworks plant.climeworks is also working with reykjavik energy on the carbfix2 project with funding from the european union. this project is located in hellisheidi, iceland, uses direct air capture technology to geologically store co2 in conjunction with a large geothermal power plant. once co2 is captured using climeworks' filters, it is heated using heat from the geothermal plant and bound to water. the geothermal plant then pumps the carbonated water into underground rock formations where the co2 reacts with basaltic bedrock and forms carbonate minerals.\n",
            "\n",
            "\n",
            "=== open100 ===\n",
            "the open100 project, launched in 2020 by the energy impact center (eic), is the world's first open-source blueprint for nuclear power plant deployment. the energy impact center and open100 aim to reverse climate change by 2040 and believe that nuclear power is the only feasible energy source to power ccs without the compromise of releasing new co2.this project intends to bring together researchers, designers, scientists, engineers, think tanks, etc. to help compile research and designs that will eventually evolve into a blueprint that is available to the public and can be utilized in the development of future nuclear plants.\n",
            "\n",
            "\n",
            "== see also ==\n",
            "\n",
            "\n",
            "== references ==\n",
            "\n",
            "\n",
            "== sources ==\n",
            "uk committee on climate change (2018). biomass in a low-carbon economy (pdf).\n",
            "fajardy, mathilde; köberle, alexandre; mac dowell, niall; fantuzzi, andrea (2019). \"beccs deployment: a reality check\" (pdf). grantham institute imperial college london.\n",
            "\n",
            "\n",
            "== bibliography ==\n",
            "\n",
            "\n",
            "== external links ==\n",
            " media related to carbon capture and storage at wikimedia commons\n",
            "doe fossil energy department of energy programs in co2 capture and storage\n",
            "us department of energy\n",
            "us gulf coast\n",
            "zero emissions platform - technical adviser to the eu commission on the deployment of ccs and ccu\n",
            "national assessment of geologic co2 storage resources: results united states geological survey\n",
            "mit carbon capture and sequestration\n"
          ]
        }
      ]
    },
    {
      "cell_type": "code",
      "source": [
        "from typing import Counter\n",
        "from nltk.tokenize import WordPunctTokenizer\n",
        "\n",
        "text = wikipedia_page('Carbon capture and storage').lower()\n",
        "tokens = WordPunctTokenizer().tokenize(text)\n",
        "print(Counter(tokens).most_common(20))"
      ],
      "metadata": {
        "colab": {
          "base_uri": "https://localhost:8080/"
        },
        "id": "Lmkglb8O-xJ6",
        "outputId": "ff1f96be-6028-46aa-d282-0467886e867d"
      },
      "execution_count": 35,
      "outputs": [
        {
          "output_type": "stream",
          "name": "stdout",
          "text": [
            "[('the', 482), ('.', 438), (',', 352), ('of', 250), ('and', 232), ('in', 209), ('to', 208), ('co2', 191), ('a', 177), ('is', 160), ('for', 113), ('-', 113), ('capture', 101), ('ccs', 92), ('from', 73), ('carbon', 72), ('(', 72), ('gas', 69), ('be', 66), ('plant', 63)]\n"
          ]
        }
      ]
    },
    {
      "cell_type": "markdown",
      "source": [
        "## Tokenize on Characters or Syllables\n",
        "\n",
        "Tokenization is not restricted to words or punctuation. It could be applied to create subwords or separate the characters of a word. "
      ],
      "metadata": {
        "id": "TjdkxQLiAxZ-"
      }
    },
    {
      "cell_type": "code",
      "source": [
        "# example of character tokenization\n",
        "char_tokens = [c for c in text]\n",
        "print(\"Most common characters in the text\")\n",
        "print(Counter(char_tokens).most_common(20))\n",
        "\n",
        "print()\n",
        "print(\"All characters in the text:\")\n",
        "print(set(char_tokens))"
      ],
      "metadata": {
        "colab": {
          "base_uri": "https://localhost:8080/"
        },
        "id": "J4kfOkUi_h8s",
        "outputId": "e1bc86f7-14aa-4e8c-d227-978640f54576"
      },
      "execution_count": 36,
      "outputs": [
        {
          "output_type": "stream",
          "name": "stdout",
          "text": [
            "Most common characters in the text\n",
            "[(' ', 8620), ('e', 5365), ('t', 3958), ('o', 3717), ('a', 3655), ('i', 3392), ('n', 3257), ('r', 3093), ('s', 2968), ('c', 2393), ('l', 1945), ('d', 1527), ('h', 1370), ('u', 1316), ('p', 1309), ('m', 1112), ('f', 942), ('g', 923), ('b', 678), ('y', 608)]\n",
            "\n",
            "All characters in the text:\n",
            "{'g', 'l', 'p', ']', 'e', 'u', 'j', '(', ')', '—', 'n', ':', '6', \"'\", 'ß', '8', '7', '0', '4', 'ü', '.', 'z', '1', 'ö', 't', 'm', '°', 'k', '”', '3', '€', '+', '$', 's', 'o', ',', '“', '9', 'i', '\\n', 'y', 'b', 'w', 'h', 'd', '=', ';', 'c', 'q', 'f', '5', '–', '%', 'r', 'ø', 'a', '’', '\"', 'v', '″', '[', '‘', '&', '-', '/', 'x', ' ', '2'}\n"
          ]
        }
      ]
    },
    {
      "cell_type": "markdown",
      "source": [
        "* **character tokenization** works best for spell checking.\n",
        "* **subword tokenization** is used in recent NLP models such as BERT."
      ],
      "metadata": {
        "id": "F1ZxULXmCEVL"
      }
    },
    {
      "cell_type": "markdown",
      "source": [
        "## Tokenize on N-Grams\n",
        "\n",
        "Sometimes could be useful to consider groups of two words (*bigrams*) or three words (*trigrams*), etc. In general, groups of words taken as a single token are called **n-grams**."
      ],
      "metadata": {
        "id": "6Kkg4NzJCjyf"
      }
    },
    {
      "cell_type": "code",
      "source": [
        "from nltk import ngrams\n",
        "from nltk.tokenize import WordPunctTokenizer\n",
        "\n",
        "text = \"How much wood would a woodchuck chuck if a woodchuck could chuck wood?\"\n",
        "\n",
        "#Tokenize\n",
        "tokens = WordPunctTokenizer().tokenize(text)\n",
        "\n",
        "#bigrams\n",
        "bigrams = [w for w in ngrams(tokens, n=2)]\n",
        "print(bigrams)"
      ],
      "metadata": {
        "colab": {
          "base_uri": "https://localhost:8080/"
        },
        "id": "o6bY5r9jBmjE",
        "outputId": "a3c21704-25d5-4eab-abcc-32b24276d8e7"
      },
      "execution_count": 37,
      "outputs": [
        {
          "output_type": "stream",
          "name": "stdout",
          "text": [
            "[('How', 'much'), ('much', 'wood'), ('wood', 'would'), ('would', 'a'), ('a', 'woodchuck'), ('woodchuck', 'chuck'), ('chuck', 'if'), ('if', 'a'), ('a', 'woodchuck'), ('woodchuck', 'could'), ('could', 'chuck'), ('chuck', 'wood'), ('wood', '?')]\n"
          ]
        }
      ]
    },
    {
      "cell_type": "code",
      "source": [
        "# trigrams\n",
        "trigrams = ['_'.join(w) for w in ngrams(tokens, n=3)]\n",
        "print(trigrams)"
      ],
      "metadata": {
        "colab": {
          "base_uri": "https://localhost:8080/"
        },
        "id": "efQmyX3-FcYc",
        "outputId": "e099f659-8e97-4414-9002-d268b506b26a"
      },
      "execution_count": 38,
      "outputs": [
        {
          "output_type": "stream",
          "name": "stdout",
          "text": [
            "['How_much_wood', 'much_wood_would', 'wood_would_a', 'would_a_woodchuck', 'a_woodchuck_chuck', 'woodchuck_chuck_if', 'chuck_if_a', 'if_a_woodchuck', 'a_woodchuck_could', 'woodchuck_could_chuck', 'could_chuck_wood', 'chuck_wood_?']\n"
          ]
        }
      ]
    },
    {
      "cell_type": "markdown",
      "source": [
        "## Add ngrams to list of tokens\n",
        "\n",
        "Add the bigrams and trigrams to the list of tokens on the wikipedia  'Carbon capture and storage' page and look at the frequency of ngrams."
      ],
      "metadata": {
        "id": "xRIu5LXLx6J6"
      }
    },
    {
      "cell_type": "code",
      "source": [
        "text = wikipedia_page('Carbon capture and storage').lower()\n",
        "unigrams = WordPunctTokenizer().tokenize(text)\n",
        "bigrams = ['_'.join(w) for w in  ngrams(unigrams, n=2)]\n",
        "trigrams = ['_'.join(w) for w in ngrams(unigrams,n=3)]"
      ],
      "metadata": {
        "id": "GKEjVhj_FrZM"
      },
      "execution_count": 43,
      "outputs": []
    },
    {
      "cell_type": "code",
      "source": [
        "tokens = unigrams + bigrams + trigrams"
      ],
      "metadata": {
        "id": "Tu4537ufzklg"
      },
      "execution_count": 44,
      "outputs": []
    },
    {
      "cell_type": "code",
      "source": [
        "print (f\"we have a total of {len(tokens)} tokens, including: \\n- {len(unigrams)} unigrams \\n- {len(bigrams)} bigrams \\n- {len(trigrams)} trigrams.\")"
      ],
      "metadata": {
        "colab": {
          "base_uri": "https://localhost:8080/"
        },
        "id": "cU-ZLohYz5gY",
        "outputId": "7811abbb-0afc-4280-a8d8-54aebe501662"
      },
      "execution_count": 45,
      "outputs": [
        {
          "output_type": "stream",
          "name": "stdout",
          "text": [
            "we have a total of 30795 tokens, including: \n",
            "- 10266 unigrams \n",
            "- 10265 bigrams \n",
            "- 10264 trigrams.\n"
          ]
        }
      ]
    },
    {
      "cell_type": "code",
      "source": [
        "Counter(tokens).most_common(50)"
      ],
      "metadata": {
        "colab": {
          "base_uri": "https://localhost:8080/"
        },
        "id": "zCvZeyXU0WEI",
        "outputId": "90a7a4a9-b4a9-4227-e799-b69696aac3c2"
      },
      "execution_count": 46,
      "outputs": [
        {
          "output_type": "execute_result",
          "data": {
            "text/plain": [
              "[('the', 482),\n",
              " ('.', 438),\n",
              " (',', 352),\n",
              " ('of', 250),\n",
              " ('and', 232),\n",
              " ('in', 209),\n",
              " ('to', 208),\n",
              " ('co2', 191),\n",
              " ('a', 177),\n",
              " ('is', 160),\n",
              " ('for', 113),\n",
              " ('-', 113),\n",
              " ('capture', 101),\n",
              " ('ccs', 92),\n",
              " ('._the', 83),\n",
              " ('from', 73),\n",
              " ('carbon', 72),\n",
              " ('(', 72),\n",
              " ('gas', 69),\n",
              " ('be', 66),\n",
              " ('plant', 63),\n",
              " ('with', 59),\n",
              " ('project', 59),\n",
              " ('===', 58),\n",
              " ('as', 57),\n",
              " ('storage', 54),\n",
              " ('that', 54),\n",
              " ('by', 52),\n",
              " ('energy', 49),\n",
              " ('at', 49),\n",
              " ('it', 47),\n",
              " ('power', 47),\n",
              " ('are', 47),\n",
              " ('was', 44),\n",
              " (')', 43),\n",
              " ('====', 42),\n",
              " ('in_the', 42),\n",
              " ('oil', 41),\n",
              " ('or', 40),\n",
              " ('coal', 40),\n",
              " ('carbon_capture', 40),\n",
              " ('can', 38),\n",
              " ('of_co2', 38),\n",
              " ('on', 37),\n",
              " (',_and', 36),\n",
              " ('this', 35),\n",
              " ('of_the', 35),\n",
              " (',_the', 33),\n",
              " ('==', 32),\n",
              " ('s', 32)]"
            ]
          },
          "metadata": {},
          "execution_count": 46
        }
      ]
    },
    {
      "cell_type": "code",
      "source": [
        ""
      ],
      "metadata": {
        "id": "LVNmrqD40dgV"
      },
      "execution_count": 42,
      "outputs": []
    }
  ]
}